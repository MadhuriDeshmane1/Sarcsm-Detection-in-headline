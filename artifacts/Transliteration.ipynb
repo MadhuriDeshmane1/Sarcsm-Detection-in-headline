{
 "cells": [
  {
   "cell_type": "code",
   "execution_count": 6,
   "id": "537479e3",
   "metadata": {},
   "outputs": [],
   "source": [
    "# language translation\n",
    "from googletrans import Translator\n",
    "from indic_transliteration import sanscript\n",
    "from indic_transliteration.sanscript import transliterate\n"
   ]
  },
  {
   "cell_type": "code",
   "execution_count": 7,
   "id": "e95af3b2",
   "metadata": {},
   "outputs": [],
   "source": [
    "def lang_trans(data):\n",
    "    translor = Translator()\n",
    "    translated_text = translor.translate(data)\n",
    "    return translated_text.text"
   ]
  },
  {
   "cell_type": "code",
   "execution_count": 14,
   "id": "979a8f7b",
   "metadata": {},
   "outputs": [
    {
     "name": "stdout",
     "output_type": "stream",
     "text": [
      "सुप्रभत्\n"
     ]
    }
   ],
   "source": [
    "text = \"suprabhat\"\n",
    "print(transliterate(text,sanscript.ITRANS,sanscript.DEVANAGARI))"
   ]
  },
  {
   "cell_type": "code",
   "execution_count": 10,
   "id": "88ece4ef",
   "metadata": {},
   "outputs": [
    {
     "name": "stdout",
     "output_type": "stream",
     "text": [
      "य़े होतेल् हमे अच्च लग\n"
     ]
    }
   ],
   "source": [
    "text = \"Ye hotel hame accha laga\"\n",
    "print(transliterate(text,sanscript.ITRANS,sanscript.DEVANAGARI))"
   ]
  },
  {
   "cell_type": "code",
   "execution_count": null,
   "id": "d1b8b58e",
   "metadata": {},
   "outputs": [],
   "source": []
  },
  {
   "cell_type": "code",
   "execution_count": null,
   "id": "7b2964a7",
   "metadata": {},
   "outputs": [],
   "source": []
  }
 ],
 "metadata": {
  "kernelspec": {
   "display_name": "Python 3 (ipykernel)",
   "language": "python",
   "name": "python3"
  },
  "language_info": {
   "codemirror_mode": {
    "name": "ipython",
    "version": 3
   },
   "file_extension": ".py",
   "mimetype": "text/x-python",
   "name": "python",
   "nbconvert_exporter": "python",
   "pygments_lexer": "ipython3",
   "version": "3.9.13"
  }
 },
 "nbformat": 4,
 "nbformat_minor": 5
}
